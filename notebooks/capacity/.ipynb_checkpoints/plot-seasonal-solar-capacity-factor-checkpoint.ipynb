{
 "cells": [
  {
   "cell_type": "code",
   "execution_count": 1,
   "id": "87518ce3-3ee6-4e18-be7d-935f6d6fee33",
   "metadata": {},
   "outputs": [],
   "source": [
    "import numpy as np\n",
    "from netCDF4 import Dataset, num2date\n",
    "import matplotlib.pyplot as plt\n",
    "from matplotlib.colors import LinearSegmentedColormap\n",
    "import cartopy\n",
    "from cartopy.io import shapereader\n",
    "from cartopy.mpl.gridliner import LONGITUDE_FORMATTER, LATITUDE_FORMATTER\n",
    "from cartopy.feature import ShapelyFeature\n",
    "import geopandas"
   ]
  },
  {
   "cell_type": "code",
   "execution_count": 2,
   "id": "a65b2195-7c43-4a88-8bd3-97b4f156bccc",
   "metadata": {},
   "outputs": [],
   "source": [
    "cmap_name = 'StepSeq25'\n",
    "rgb = np.genfromtxt(\"other-files/colourmaps/{}.rgb\".format(cmap_name))/255.\n",
    "cmap = LinearSegmentedColormap.from_list(cmap_name, rgb, N=25)"
   ]
  },
  {
   "cell_type": "code",
   "execution_count": 3,
   "id": "539fee12-431e-47b4-b26f-cf90dd651fca",
   "metadata": {},
   "outputs": [],
   "source": [
    "seasons = [1,2], [4,5], [7,8], [10,11]"
   ]
  },
  {
   "cell_type": "code",
   "execution_count": 4,
   "id": "0053b44c-d217-4fec-b8cb-3c1edeb3896b",
   "metadata": {},
   "outputs": [],
   "source": [
    "months = []\n",
    "sw = []\n",
    "t2 = []"
   ]
  },
  {
   "cell_type": "code",
   "execution_count": 5,
   "id": "bdb6ff17-7912-4ab4-9dc3-505e3929972f",
   "metadata": {},
   "outputs": [
    {
     "name": "stdout",
     "output_type": "stream",
     "text": [
      "2010\n",
      "2011\n",
      "2012\n"
     ]
    }
   ],
   "source": [
    "for year in range(2010,2011):\n",
    "\tprint(year)\n",
    "\tswinfile = Dataset(\"../era5/data/{}_mean_surface_downward_short_wave_radiation_flux.nc\".format(year))\n",
    "\tt2infile = Dataset(\"../era5/data/{}_2m_temperature.nc\".format(year))\n",
    "\n",
    "\tsw_data = swinfile.variables['msdwswrf'][:]\n",
    "\tif year >= 2022:\n",
    "\t\tsw_data = sw_data[:,0]\n",
    "\tsw.extend(sw_data)\n",
    "\t\n",
    "\tt2_data = t2infile.variables['t2m'][:]-273.15\n",
    "\tif year >= 2022:\n",
    "\t\tt2_data = t2_data[:,0]\n",
    "\tt2.extend(t2_data)\n",
    "\n",
    "\tlons = swinfile.variables['longitude'][:] \n",
    "\tlats = swinfile.variables['latitude'][:]\n",
    "\n",
    "\ttime = t2infile.variables['time']\n",
    "\ttimes = num2date(time[:], time.units)\n",
    "\tmonths.extend(np.array([t.month for t in times]))"
   ]
  },
  {
   "cell_type": "code",
   "execution_count": 6,
   "id": "a79cafb4-03a9-44f8-bf97-2a7081705f51",
   "metadata": {},
   "outputs": [],
   "source": [
    "sw = np.array(sw)\n",
    "t2 = np.array(t2)\n",
    "months = np.array(months)"
   ]
  },
  {
   "cell_type": "code",
   "execution_count": null,
   "id": "ae03df4e-31e0-41f2-8081-d4b0f6c70b06",
   "metadata": {},
   "outputs": [],
   "source": [
    "T_ref = 25. \n",
    "eff_ref = 0.9 \n",
    "beta_ref = 0.0042\n",
    "G_ref = 1000.\n",
    " \n",
    "rel_efficiency_of_panel = eff_ref*(1 - beta_ref*(t2 - T_ref))\n",
    "capacity_factor_of_panel = np.nan_to_num(rel_efficiency_of_panel*\n",
    "                                        (sw/G_ref)) "
   ]
  },
  {
   "cell_type": "code",
   "execution_count": null,
   "id": "52f5f54b-dc3c-46bb-9e8f-0838e7ce453f",
   "metadata": {},
   "outputs": [],
   "source": [
    "mean_capacity = capacity_factor_of_panel.mean(axis=0)\n",
    "print(mean_capacity.min(), mean_capacity.max())"
   ]
  },
  {
   "cell_type": "code",
   "execution_count": null,
   "id": "a4c61e68-37f8-4384-852d-1a9da4128777",
   "metadata": {},
   "outputs": [],
   "source": [
    "np.save(\"data/means/solarcapacity\", mean_capacity)"
   ]
  },
  {
   "cell_type": "code",
   "execution_count": null,
   "id": "3b781066-09cb-4ad1-bad0-9542ab498b93",
   "metadata": {},
   "outputs": [],
   "source": [
    "\n",
    "fig = plt.figure(figsize=(15,8))\n",
    "\n",
    "ax1 = plt.subplot(1,2,1, projection=cartopy.crs.PlateCarree())\n",
    "ax2 = plt.subplot(2,4,3, projection=cartopy.crs.PlateCarree())\n",
    "ax3 = plt.subplot(2,4,4, projection=cartopy.crs.PlateCarree())\n",
    "ax4 = plt.subplot(2,4,7, projection=cartopy.crs.PlateCarree())\n",
    "ax5 = plt.subplot(2,4,8, projection=cartopy.crs.PlateCarree())\n",
    "\n",
    "axes = [ax1,ax2,ax3,ax4,ax5]\n"
   ]
  },
  {
   "cell_type": "code",
   "execution_count": null,
   "id": "29088b80-5823-4ae0-8fc4-2df31c9e1312",
   "metadata": {},
   "outputs": [],
   "source": [
    "cs = ax1.pcolormesh(lons, lats, mean_capacity, cmap=cmap, vmin=0, vmax=0.5, rasterized=True)\n",
    "\n",
    "df = geopandas.read_file(\"other-files/india_states_lores.zip\")\n",
    "df.plot(ax=ax1, facecolor='none', edgecolor='k', linewidth=0.25)\n",
    "\n",
    "\n",
    "fig.subplots_adjust(bottom=0.185, wspace=.1, hspace=.125)\n",
    "cax = plt.gcf().add_axes([0.175, 0.1, 0.25, 0.025])\n",
    "cb = plt.colorbar(cs, cax=cax, orientation='horizontal', extend='max')\n",
    "cb.set_label(\"Mean hourly capacity factor (solar)\")"
   ]
  },
  {
   "cell_type": "code",
   "execution_count": null,
   "id": "b8e6a73a-8c5d-4948-aa49-4b7124e2572a",
   "metadata": {},
   "outputs": [],
   "source": [
    "for season, ax in zip(seasons, [ax2,ax3,ax4,ax5]):\n",
    "\tit = np.in1d(months, season)\n",
    "\tmean_capacity = capacity_factor_of_panel[it].mean(axis=0)\n",
    "\tax.pcolormesh(lons, lats, mean_capacity, cmap=cmap, vmin=0, vmax=0.5, rasterized=True)\n",
    "\t\n",
    "ax1.set_title(\"Annual mean\")\t\n",
    "ax2.set_title(\"Winter (Jan-Feb)\")\t\n",
    "ax3.set_title(\"Pre-monsoon (Apr-May)\")\t\n",
    "ax4.set_title(\"Monsoon (Jul-Aug)\")\t\n",
    "ax5.set_title(\"Post-monsoon (Oct-Nov)\")\t"
   ]
  },
  {
   "cell_type": "code",
   "execution_count": null,
   "id": "bc66f707-c0ee-4f69-a489-d7f822c08964",
   "metadata": {},
   "outputs": [],
   "source": [
    "for ax in ax1, ax4, ax5:\n",
    "\tax.set_xticks(np.arange(0,100,10))\n",
    "\tax.xaxis.set_major_formatter(LONGITUDE_FORMATTER)\n",
    "\n",
    "for ax in ax3, ax5:\n",
    "\tax.set_yticks(np.arange(0,100,10))\n",
    "\tax.yaxis.tick_right()\n",
    "\tax.yaxis.set_major_formatter(LATITUDE_FORMATTER)\n",
    "\n",
    "\n",
    "ax1.set_yticks(np.arange(0,100,10))\n",
    "ax1.yaxis.set_major_formatter(LATITUDE_FORMATTER)\n",
    "\n",
    "shape_feature = ShapelyFeature(shapereader.Reader(\"other-data/ne_10m_admin_0_countries_ind.shp\").geometries(),\n",
    "                                cartopy.crs.PlateCarree(), facecolor='none', edgecolor='k', lw=0.75)\n"
   ]
  },
  {
   "cell_type": "code",
   "execution_count": null,
   "id": "0bd0f350-0d44-418d-adb7-e488b566458a",
   "metadata": {},
   "outputs": [],
   "source": [
    "for ax in axes:\n",
    "\tax.coastlines()\n",
    "\tax.add_feature(shape_feature)\n",
    "\tax.set_xlim([lons.min(), lons.max()])\n",
    "\tax.set_ylim([lats.min(), lats.max()])\n",
    "\n",
    "\n",
    "plt.show()"
   ]
  }
 ],
 "metadata": {
  "kernelspec": {
   "display_name": "Python 3 + Jaspy",
   "language": "python",
   "name": "jaspy"
  },
  "language_info": {
   "codemirror_mode": {
    "name": "ipython",
    "version": 3
   },
   "file_extension": ".py",
   "mimetype": "text/x-python",
   "name": "python",
   "nbconvert_exporter": "python",
   "pygments_lexer": "ipython3",
   "version": "3.11.9"
  }
 },
 "nbformat": 4,
 "nbformat_minor": 5
}
