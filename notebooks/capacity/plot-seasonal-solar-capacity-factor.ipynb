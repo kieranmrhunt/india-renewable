{
 "cells": [
  {
   "cell_type": "code",
   "execution_count": 3,
   "id": "87518ce3-3ee6-4e18-be7d-935f6d6fee33",
   "metadata": {},
   "outputs": [],
   "source": [
    "import numpy as np\n",
    "from netCDF4 import Dataset, num2date\n",
    "import matplotlib.pyplot as plt\n",
    "from matplotlib.colors import LinearSegmentedColormap\n",
    "import cartopy\n",
    "from cartopy.io import shapereader\n",
    "from cartopy.mpl.gridliner import LONGITUDE_FORMATTER, LATITUDE_FORMATTER\n",
    "from cartopy.feature import ShapelyFeature\n",
    "import geopandas\n",
    "%matplotlib inline"
   ]
  },
  {
   "cell_type": "code",
   "execution_count": 6,
   "id": "fabfea59-b8b0-4398-9b34-4094f0e38f9c",
   "metadata": {},
   "outputs": [
    {
     "data": {
      "text/plain": [
       "'/gws/nopw/j04/ncas_climate_vol1/users/kieran/india-renewable/notebooks'"
      ]
     },
     "execution_count": 6,
     "metadata": {},
     "output_type": "execute_result"
    }
   ],
   "source": [
    "import os\n",
    "os.getcwd()"
   ]
  },
  {
   "cell_type": "code",
   "execution_count": 4,
   "id": "a65b2195-7c43-4a88-8bd3-97b4f156bccc",
   "metadata": {},
   "outputs": [
    {
     "ename": "FileNotFoundError",
     "evalue": "[Errno 2] No such file or directory: '../other-files/colourmaps/StepSeq25.rgb'",
     "output_type": "error",
     "traceback": [
      "\u001b[31m---------------------------------------------------------------------------\u001b[39m",
      "\u001b[31mFileNotFoundError\u001b[39m                         Traceback (most recent call last)",
      "\u001b[36mCell\u001b[39m\u001b[36m \u001b[39m\u001b[32mIn[4]\u001b[39m\u001b[32m, line 2\u001b[39m\n\u001b[32m      1\u001b[39m cmap_name = \u001b[33m'\u001b[39m\u001b[33mStepSeq25\u001b[39m\u001b[33m'\u001b[39m\n\u001b[32m----> \u001b[39m\u001b[32m2\u001b[39m rgb = \u001b[43mnp\u001b[49m\u001b[43m.\u001b[49m\u001b[43mgenfromtxt\u001b[49m\u001b[43m(\u001b[49m\u001b[33;43m\"\u001b[39;49m\u001b[33;43m../other-files/colourmaps/\u001b[39;49m\u001b[38;5;132;43;01m{}\u001b[39;49;00m\u001b[33;43m.rgb\u001b[39;49m\u001b[33;43m\"\u001b[39;49m\u001b[43m.\u001b[49m\u001b[43mformat\u001b[49m\u001b[43m(\u001b[49m\u001b[43mcmap_name\u001b[49m\u001b[43m)\u001b[49m\u001b[43m)\u001b[49m/\u001b[32m255.\u001b[39m\n\u001b[32m      3\u001b[39m cmap = LinearSegmentedColormap.from_list(cmap_name, rgb, N=\u001b[32m25\u001b[39m)\n",
      "\u001b[36mFile \u001b[39m\u001b[32m~/miniconda3/envs/py311/lib/python3.11/site-packages/numpy/lib/npyio.py:1980\u001b[39m, in \u001b[36mgenfromtxt\u001b[39m\u001b[34m(fname, dtype, comments, delimiter, skip_header, skip_footer, converters, missing_values, filling_values, usecols, names, excludelist, deletechars, replace_space, autostrip, case_sensitive, defaultfmt, unpack, usemask, loose, invalid_raise, max_rows, encoding, ndmin, like)\u001b[39m\n\u001b[32m   1978\u001b[39m     fname = os_fspath(fname)\n\u001b[32m   1979\u001b[39m \u001b[38;5;28;01mif\u001b[39;00m \u001b[38;5;28misinstance\u001b[39m(fname, \u001b[38;5;28mstr\u001b[39m):\n\u001b[32m-> \u001b[39m\u001b[32m1980\u001b[39m     fid = \u001b[43mnp\u001b[49m\u001b[43m.\u001b[49m\u001b[43mlib\u001b[49m\u001b[43m.\u001b[49m\u001b[43m_datasource\u001b[49m\u001b[43m.\u001b[49m\u001b[43mopen\u001b[49m\u001b[43m(\u001b[49m\u001b[43mfname\u001b[49m\u001b[43m,\u001b[49m\u001b[43m \u001b[49m\u001b[33;43m'\u001b[39;49m\u001b[33;43mrt\u001b[39;49m\u001b[33;43m'\u001b[39;49m\u001b[43m,\u001b[49m\u001b[43m \u001b[49m\u001b[43mencoding\u001b[49m\u001b[43m=\u001b[49m\u001b[43mencoding\u001b[49m\u001b[43m)\u001b[49m\n\u001b[32m   1981\u001b[39m     fid_ctx = contextlib.closing(fid)\n\u001b[32m   1982\u001b[39m \u001b[38;5;28;01melse\u001b[39;00m:\n",
      "\u001b[36mFile \u001b[39m\u001b[32m~/miniconda3/envs/py311/lib/python3.11/site-packages/numpy/lib/_datasource.py:193\u001b[39m, in \u001b[36mopen\u001b[39m\u001b[34m(path, mode, destpath, encoding, newline)\u001b[39m\n\u001b[32m    156\u001b[39m \u001b[38;5;250m\u001b[39m\u001b[33;03m\"\"\"\u001b[39;00m\n\u001b[32m    157\u001b[39m \u001b[33;03mOpen `path` with `mode` and return the file object.\u001b[39;00m\n\u001b[32m    158\u001b[39m \n\u001b[32m   (...)\u001b[39m\u001b[32m    189\u001b[39m \n\u001b[32m    190\u001b[39m \u001b[33;03m\"\"\"\u001b[39;00m\n\u001b[32m    192\u001b[39m ds = DataSource(destpath)\n\u001b[32m--> \u001b[39m\u001b[32m193\u001b[39m \u001b[38;5;28;01mreturn\u001b[39;00m \u001b[43mds\u001b[49m\u001b[43m.\u001b[49m\u001b[43mopen\u001b[49m\u001b[43m(\u001b[49m\u001b[43mpath\u001b[49m\u001b[43m,\u001b[49m\u001b[43m \u001b[49m\u001b[43mmode\u001b[49m\u001b[43m,\u001b[49m\u001b[43m \u001b[49m\u001b[43mencoding\u001b[49m\u001b[43m=\u001b[49m\u001b[43mencoding\u001b[49m\u001b[43m,\u001b[49m\u001b[43m \u001b[49m\u001b[43mnewline\u001b[49m\u001b[43m=\u001b[49m\u001b[43mnewline\u001b[49m\u001b[43m)\u001b[49m\n",
      "\u001b[36mFile \u001b[39m\u001b[32m~/miniconda3/envs/py311/lib/python3.11/site-packages/numpy/lib/_datasource.py:530\u001b[39m, in \u001b[36mDataSource.open\u001b[39m\u001b[34m(self, path, mode, encoding, newline)\u001b[39m\n\u001b[32m    528\u001b[39m     \u001b[38;5;28;01mif\u001b[39;00m ext == \u001b[33m'\u001b[39m\u001b[33mbz2\u001b[39m\u001b[33m'\u001b[39m:\n\u001b[32m    529\u001b[39m         mode.replace(\u001b[33m\"\u001b[39m\u001b[33m+\u001b[39m\u001b[33m\"\u001b[39m, \u001b[33m\"\u001b[39m\u001b[33m\"\u001b[39m)\n\u001b[32m--> \u001b[39m\u001b[32m530\u001b[39m     \u001b[38;5;28;01mreturn\u001b[39;00m \u001b[43m_file_openers\u001b[49m\u001b[43m[\u001b[49m\u001b[43mext\u001b[49m\u001b[43m]\u001b[49m\u001b[43m(\u001b[49m\u001b[43mfound\u001b[49m\u001b[43m,\u001b[49m\u001b[43m \u001b[49m\u001b[43mmode\u001b[49m\u001b[43m=\u001b[49m\u001b[43mmode\u001b[49m\u001b[43m,\u001b[49m\n\u001b[32m    531\u001b[39m \u001b[43m                              \u001b[49m\u001b[43mencoding\u001b[49m\u001b[43m=\u001b[49m\u001b[43mencoding\u001b[49m\u001b[43m,\u001b[49m\u001b[43m \u001b[49m\u001b[43mnewline\u001b[49m\u001b[43m=\u001b[49m\u001b[43mnewline\u001b[49m\u001b[43m)\u001b[49m\n\u001b[32m    532\u001b[39m \u001b[38;5;28;01melse\u001b[39;00m:\n\u001b[32m    533\u001b[39m     \u001b[38;5;28;01mraise\u001b[39;00m \u001b[38;5;167;01mFileNotFoundError\u001b[39;00m(\u001b[33mf\u001b[39m\u001b[33m\"\u001b[39m\u001b[38;5;132;01m{\u001b[39;00mpath\u001b[38;5;132;01m}\u001b[39;00m\u001b[33m not found.\u001b[39m\u001b[33m\"\u001b[39m)\n",
      "\u001b[31mFileNotFoundError\u001b[39m: [Errno 2] No such file or directory: '../other-files/colourmaps/StepSeq25.rgb'"
     ]
    }
   ],
   "source": [
    "cmap_name = 'StepSeq25'\n",
    "rgb = np.genfromtxt(\"../other-files/colourmaps/{}.rgb\".format(cmap_name))/255.\n",
    "cmap = LinearSegmentedColormap.from_list(cmap_name, rgb, N=25)"
   ]
  },
  {
   "cell_type": "code",
   "execution_count": null,
   "id": "539fee12-431e-47b4-b26f-cf90dd651fca",
   "metadata": {},
   "outputs": [],
   "source": [
    "seasons = [1,2], [4,5], [7,8], [10,11]"
   ]
  },
  {
   "cell_type": "code",
   "execution_count": null,
   "id": "0053b44c-d217-4fec-b8cb-3c1edeb3896b",
   "metadata": {},
   "outputs": [],
   "source": [
    "months = []\n",
    "sw = []\n",
    "t2 = []"
   ]
  },
  {
   "cell_type": "code",
   "execution_count": null,
   "id": "bdb6ff17-7912-4ab4-9dc3-505e3929972f",
   "metadata": {},
   "outputs": [],
   "source": [
    "for year in range(2010,2011):\n",
    "\tprint(year)\n",
    "\tswinfile = Dataset(\"../../era5/data/{}_mean_surface_downward_short_wave_radiation_flux.nc\".format(year))\n",
    "\tt2infile = Dataset(\"../../era5/data/{}_2m_temperature.nc\".format(year))\n",
    "\n",
    "\tsw_data = swinfile.variables['msdwswrf'][:]\n",
    "\tif year >= 2022:\n",
    "\t\tsw_data = sw_data[:,0]\n",
    "\tsw.extend(sw_data)\n",
    "\t\n",
    "\tt2_data = t2infile.variables['t2m'][:]-273.15\n",
    "\tif year >= 2022:\n",
    "\t\tt2_data = t2_data[:,0]\n",
    "\tt2.extend(t2_data)\n",
    "\n",
    "\tlons = swinfile.variables['longitude'][:] \n",
    "\tlats = swinfile.variables['latitude'][:]\n",
    "\n",
    "\ttime = t2infile.variables['time']\n",
    "\ttimes = num2date(time[:], time.units)\n",
    "\tmonths.extend(np.array([t.month for t in times]))"
   ]
  },
  {
   "cell_type": "code",
   "execution_count": null,
   "id": "a79cafb4-03a9-44f8-bf97-2a7081705f51",
   "metadata": {},
   "outputs": [],
   "source": [
    "sw = np.array(sw)\n",
    "t2 = np.array(t2)\n",
    "months = np.array(months)"
   ]
  },
  {
   "cell_type": "code",
   "execution_count": null,
   "id": "ae03df4e-31e0-41f2-8081-d4b0f6c70b06",
   "metadata": {},
   "outputs": [],
   "source": [
    "T_ref = 25. \n",
    "eff_ref = 0.9 \n",
    "beta_ref = 0.0042\n",
    "G_ref = 1000.\n",
    " \n",
    "rel_efficiency_of_panel = eff_ref*(1 - beta_ref*(t2 - T_ref))\n",
    "capacity_factor_of_panel = np.nan_to_num(rel_efficiency_of_panel*\n",
    "                                        (sw/G_ref)) "
   ]
  },
  {
   "cell_type": "code",
   "execution_count": null,
   "id": "52f5f54b-dc3c-46bb-9e8f-0838e7ce453f",
   "metadata": {},
   "outputs": [],
   "source": [
    "mean_capacity = capacity_factor_of_panel.mean(axis=0)\n",
    "print(mean_capacity.min(), mean_capacity.max())"
   ]
  },
  {
   "cell_type": "code",
   "execution_count": null,
   "id": "a4c61e68-37f8-4384-852d-1a9da4128777",
   "metadata": {},
   "outputs": [],
   "source": [
    "#np.save(\"data/means/solarcapacity\", mean_capacity)"
   ]
  },
  {
   "cell_type": "code",
   "execution_count": null,
   "id": "3b781066-09cb-4ad1-bad0-9542ab498b93",
   "metadata": {},
   "outputs": [],
   "source": [
    "plt.ioff()\n",
    "\n",
    "fig = plt.figure(figsize=(15,8))\n",
    "\n",
    "ax1 = plt.subplot(1,2,1, projection=cartopy.crs.PlateCarree())\n",
    "ax2 = plt.subplot(2,4,3, projection=cartopy.crs.PlateCarree())\n",
    "ax3 = plt.subplot(2,4,4, projection=cartopy.crs.PlateCarree())\n",
    "ax4 = plt.subplot(2,4,7, projection=cartopy.crs.PlateCarree())\n",
    "ax5 = plt.subplot(2,4,8, projection=cartopy.crs.PlateCarree())\n",
    "\n",
    "axes = [ax1,ax2,ax3,ax4,ax5]\n"
   ]
  },
  {
   "cell_type": "code",
   "execution_count": null,
   "id": "29088b80-5823-4ae0-8fc4-2df31c9e1312",
   "metadata": {},
   "outputs": [],
   "source": [
    "cs = ax1.pcolormesh(lons, lats, mean_capacity, cmap=cmap, vmin=0, vmax=0.5, rasterized=True)\n",
    "\n",
    "df = geopandas.read_file(\"../other-files/india_states_lores.zip\")\n",
    "df.plot(ax=ax1, facecolor='none', edgecolor='k', linewidth=0.25)\n",
    "\n",
    "\n",
    "fig.subplots_adjust(bottom=0.185, wspace=.1, hspace=.125)\n",
    "cax = plt.gcf().add_axes([0.175, 0.1, 0.25, 0.025])\n",
    "cb = plt.colorbar(cs, cax=cax, orientation='horizontal', extend='max')\n",
    "cb.set_label(\"Mean hourly capacity factor (solar)\")"
   ]
  },
  {
   "cell_type": "code",
   "execution_count": null,
   "id": "b8e6a73a-8c5d-4948-aa49-4b7124e2572a",
   "metadata": {},
   "outputs": [],
   "source": [
    "for season, ax in zip(seasons, [ax2,ax3,ax4,ax5]):\n",
    "\tit = np.in1d(months, season)\n",
    "\tmean_capacity = capacity_factor_of_panel[it].mean(axis=0)\n",
    "\tax.pcolormesh(lons, lats, mean_capacity, cmap=cmap, vmin=0, vmax=0.5, rasterized=True)\n",
    "\t\n",
    "ax1.set_title(\"Annual mean\")\t\n",
    "ax2.set_title(\"Winter (Jan-Feb)\")\t\n",
    "ax3.set_title(\"Pre-monsoon (Apr-May)\")\t\n",
    "ax4.set_title(\"Monsoon (Jul-Aug)\")\t\n",
    "ax5.set_title(\"Post-monsoon (Oct-Nov)\")\t"
   ]
  },
  {
   "cell_type": "code",
   "execution_count": null,
   "id": "bc66f707-c0ee-4f69-a489-d7f822c08964",
   "metadata": {},
   "outputs": [],
   "source": [
    "for ax in ax1, ax4, ax5:\n",
    "\tax.set_xticks(np.arange(0,100,10))\n",
    "\tax.xaxis.set_major_formatter(LONGITUDE_FORMATTER)\n",
    "\n",
    "for ax in ax3, ax5:\n",
    "\tax.set_yticks(np.arange(0,100,10))\n",
    "\tax.yaxis.tick_right()\n",
    "\tax.yaxis.set_major_formatter(LATITUDE_FORMATTER)\n",
    "\n",
    "\n",
    "ax1.set_yticks(np.arange(0,100,10))\n",
    "ax1.yaxis.set_major_formatter(LATITUDE_FORMATTER)\n",
    "\n",
    "shape_feature = ShapelyFeature(shapereader.Reader(\"../other-files/ne_10m_admin_0_countries_ind.shp\").geometries(),\n",
    "                               cartopy.crs.PlateCarree(), facecolor='none', edgecolor='k', lw=0.75)\n"
   ]
  },
  {
   "cell_type": "code",
   "execution_count": null,
   "id": "0bd0f350-0d44-418d-adb7-e488b566458a",
   "metadata": {},
   "outputs": [],
   "source": [
    "for ax in axes:\n",
    "\tax.coastlines()\n",
    "\tax.add_feature(shape_feature)\n",
    "\tax.set_xlim([lons.min(), lons.max()])\n",
    "\tax.set_ylim([lats.min(), lats.max()])\n",
    "\n",
    "\n",
    "\n",
    "plt.show()\n"
   ]
  },
  {
   "cell_type": "code",
   "execution_count": null,
   "id": "8082c683-fde3-4f77-852d-72e200a4b8e7",
   "metadata": {},
   "outputs": [],
   "source": []
  }
 ],
 "metadata": {
  "kernelspec": {
   "display_name": "Python (py311)",
   "language": "python",
   "name": "py311-conda"
  },
  "language_info": {
   "codemirror_mode": {
    "name": "ipython",
    "version": 3
   },
   "file_extension": ".py",
   "mimetype": "text/x-python",
   "name": "python",
   "nbconvert_exporter": "python",
   "pygments_lexer": "ipython3",
   "version": "3.11.8"
  }
 },
 "nbformat": 4,
 "nbformat_minor": 5
}
